{
  "nbformat": 4,
  "nbformat_minor": 0,
  "metadata": {
    "colab": {
      "provenance": [],
      "gpuType": "T4"
    },
    "kernelspec": {
      "name": "python3",
      "display_name": "Python 3"
    },
    "language_info": {
      "name": "python"
    },
    "accelerator": "GPU"
  },
  "cells": [
    {
      "cell_type": "code",
      "source": [
        "#importing necessary libraries\n",
        "import pandas as pd\n",
        "import numpy as np\n",
        "import matplotlib.pyplot as plt\n",
        "import seaborn as sns\n",
        "import warnings\n",
        "warnings.filterwarnings('ignore')\n",
        "from sklearn.feature_extraction.text import TfidfVectorizer\n",
        "from sklearn.model_selection import train_test_split\n",
        "from sklearn.linear_model import LogisticRegression\n",
        "from sklearn.metrics import accuracy_score\n",
        "from sklearn.metrics import confusion_matrix\n",
        "from sklearn.metrics import classification_report"
      ],
      "metadata": {
        "id": "Cbcn2-N8LgcJ"
      },
      "execution_count": null,
      "outputs": []
    },
    {
      "cell_type": "code",
      "source": [
        "data = pd.read_csv('Cleaned_csv')\n",
        "\n"
      ],
      "metadata": {
        "id": "GcAg2byxMi6-"
      },
      "execution_count": null,
      "outputs": []
    },
    {
      "cell_type": "code",
      "source": [
        "data.head()"
      ],
      "metadata": {
        "colab": {
          "base_uri": "https://localhost:8080/",
          "height": 293
        },
        "id": "O7g_kREhLqPj",
        "outputId": "92154c03-9390-4d57-a717-94d3b070153e"
      },
      "execution_count": null,
      "outputs": [
        {
          "output_type": "execute_result",
          "data": {
            "text/plain": [
              "                                               title                   author  \\\n",
              "0  Islamic State Supporting Former National Guard...   Jenna Leigh Richardson   \n",
              "1  How ‘Brexit’ Will Affect Travel to Europe - Th...            Elaine Glusac   \n",
              "2              Donald Trump Gettysburg Address RECAP  Truth Broadcast Network   \n",
              "3  Maxine Waters: If We Impeach Trump, He Can’t B...                  Pam Key   \n",
              "4              Cartoons Mightier Than Swords (VIDEO)              James Tracy   \n",
              "\n",
              "                                                text  label  \\\n",
              "0  Former National Guardsman turned Islamic State...      1   \n",
              "1  In the height of the summer travel season, Bri...      0   \n",
              "2  7 hours ago 3   reports on What You Need to Kn...      1   \n",
              "3  Tuesday evening in Los Angeles at the   Democr...      0   \n",
              "4  in: Civil Rights , Free Speech , Multimedia , ...      1   \n",
              "\n",
              "                                             content  \n",
              "0  islamic state support former national guardsma...  \n",
              "1  brexit affect travel europe new york timesin h...  \n",
              "2  donald trump gettysburg address recap7 hour ag...  \n",
              "3  maxine water impeach trump can build wall brei...  \n",
              "4  cartoon mightier sword videoin civil right fre...  "
            ],
            "text/html": [
              "\n",
              "  <div id=\"df-98ee3dfc-2b97-4799-bf73-82a03cbd9dd2\" class=\"colab-df-container\">\n",
              "    <div>\n",
              "<style scoped>\n",
              "    .dataframe tbody tr th:only-of-type {\n",
              "        vertical-align: middle;\n",
              "    }\n",
              "\n",
              "    .dataframe tbody tr th {\n",
              "        vertical-align: top;\n",
              "    }\n",
              "\n",
              "    .dataframe thead th {\n",
              "        text-align: right;\n",
              "    }\n",
              "</style>\n",
              "<table border=\"1\" class=\"dataframe\">\n",
              "  <thead>\n",
              "    <tr style=\"text-align: right;\">\n",
              "      <th></th>\n",
              "      <th>title</th>\n",
              "      <th>author</th>\n",
              "      <th>text</th>\n",
              "      <th>label</th>\n",
              "      <th>content</th>\n",
              "    </tr>\n",
              "  </thead>\n",
              "  <tbody>\n",
              "    <tr>\n",
              "      <th>0</th>\n",
              "      <td>Islamic State Supporting Former National Guard...</td>\n",
              "      <td>Jenna Leigh Richardson</td>\n",
              "      <td>Former National Guardsman turned Islamic State...</td>\n",
              "      <td>1</td>\n",
              "      <td>islamic state support former national guardsma...</td>\n",
              "    </tr>\n",
              "    <tr>\n",
              "      <th>1</th>\n",
              "      <td>How ‘Brexit’ Will Affect Travel to Europe - Th...</td>\n",
              "      <td>Elaine Glusac</td>\n",
              "      <td>In the height of the summer travel season, Bri...</td>\n",
              "      <td>0</td>\n",
              "      <td>brexit affect travel europe new york timesin h...</td>\n",
              "    </tr>\n",
              "    <tr>\n",
              "      <th>2</th>\n",
              "      <td>Donald Trump Gettysburg Address RECAP</td>\n",
              "      <td>Truth Broadcast Network</td>\n",
              "      <td>7 hours ago 3   reports on What You Need to Kn...</td>\n",
              "      <td>1</td>\n",
              "      <td>donald trump gettysburg address recap7 hour ag...</td>\n",
              "    </tr>\n",
              "    <tr>\n",
              "      <th>3</th>\n",
              "      <td>Maxine Waters: If We Impeach Trump, He Can’t B...</td>\n",
              "      <td>Pam Key</td>\n",
              "      <td>Tuesday evening in Los Angeles at the   Democr...</td>\n",
              "      <td>0</td>\n",
              "      <td>maxine water impeach trump can build wall brei...</td>\n",
              "    </tr>\n",
              "    <tr>\n",
              "      <th>4</th>\n",
              "      <td>Cartoons Mightier Than Swords (VIDEO)</td>\n",
              "      <td>James Tracy</td>\n",
              "      <td>in: Civil Rights , Free Speech , Multimedia , ...</td>\n",
              "      <td>1</td>\n",
              "      <td>cartoon mightier sword videoin civil right fre...</td>\n",
              "    </tr>\n",
              "  </tbody>\n",
              "</table>\n",
              "</div>\n",
              "    <div class=\"colab-df-buttons\">\n",
              "\n",
              "  <div class=\"colab-df-container\">\n",
              "    <button class=\"colab-df-convert\" onclick=\"convertToInteractive('df-98ee3dfc-2b97-4799-bf73-82a03cbd9dd2')\"\n",
              "            title=\"Convert this dataframe to an interactive table.\"\n",
              "            style=\"display:none;\">\n",
              "\n",
              "  <svg xmlns=\"http://www.w3.org/2000/svg\" height=\"24px\" viewBox=\"0 -960 960 960\">\n",
              "    <path d=\"M120-120v-720h720v720H120Zm60-500h600v-160H180v160Zm220 220h160v-160H400v160Zm0 220h160v-160H400v160ZM180-400h160v-160H180v160Zm440 0h160v-160H620v160ZM180-180h160v-160H180v160Zm440 0h160v-160H620v160Z\"/>\n",
              "  </svg>\n",
              "    </button>\n",
              "\n",
              "  <style>\n",
              "    .colab-df-container {\n",
              "      display:flex;\n",
              "      gap: 12px;\n",
              "    }\n",
              "\n",
              "    .colab-df-convert {\n",
              "      background-color: #E8F0FE;\n",
              "      border: none;\n",
              "      border-radius: 50%;\n",
              "      cursor: pointer;\n",
              "      display: none;\n",
              "      fill: #1967D2;\n",
              "      height: 32px;\n",
              "      padding: 0 0 0 0;\n",
              "      width: 32px;\n",
              "    }\n",
              "\n",
              "    .colab-df-convert:hover {\n",
              "      background-color: #E2EBFA;\n",
              "      box-shadow: 0px 1px 2px rgba(60, 64, 67, 0.3), 0px 1px 3px 1px rgba(60, 64, 67, 0.15);\n",
              "      fill: #174EA6;\n",
              "    }\n",
              "\n",
              "    .colab-df-buttons div {\n",
              "      margin-bottom: 4px;\n",
              "    }\n",
              "\n",
              "    [theme=dark] .colab-df-convert {\n",
              "      background-color: #3B4455;\n",
              "      fill: #D2E3FC;\n",
              "    }\n",
              "\n",
              "    [theme=dark] .colab-df-convert:hover {\n",
              "      background-color: #434B5C;\n",
              "      box-shadow: 0px 1px 3px 1px rgba(0, 0, 0, 0.15);\n",
              "      filter: drop-shadow(0px 1px 2px rgba(0, 0, 0, 0.3));\n",
              "      fill: #FFFFFF;\n",
              "    }\n",
              "  </style>\n",
              "\n",
              "    <script>\n",
              "      const buttonEl =\n",
              "        document.querySelector('#df-98ee3dfc-2b97-4799-bf73-82a03cbd9dd2 button.colab-df-convert');\n",
              "      buttonEl.style.display =\n",
              "        google.colab.kernel.accessAllowed ? 'block' : 'none';\n",
              "\n",
              "      async function convertToInteractive(key) {\n",
              "        const element = document.querySelector('#df-98ee3dfc-2b97-4799-bf73-82a03cbd9dd2');\n",
              "        const dataTable =\n",
              "          await google.colab.kernel.invokeFunction('convertToInteractive',\n",
              "                                                    [key], {});\n",
              "        if (!dataTable) return;\n",
              "\n",
              "        const docLinkHtml = 'Like what you see? Visit the ' +\n",
              "          '<a target=\"_blank\" href=https://colab.research.google.com/notebooks/data_table.ipynb>data table notebook</a>'\n",
              "          + ' to learn more about interactive tables.';\n",
              "        element.innerHTML = '';\n",
              "        dataTable['output_type'] = 'display_data';\n",
              "        await google.colab.output.renderOutput(dataTable, element);\n",
              "        const docLink = document.createElement('div');\n",
              "        docLink.innerHTML = docLinkHtml;\n",
              "        element.appendChild(docLink);\n",
              "      }\n",
              "    </script>\n",
              "  </div>\n",
              "\n",
              "\n",
              "<div id=\"df-6981412b-b915-4e40-bda8-0f20827341b8\">\n",
              "  <button class=\"colab-df-quickchart\" onclick=\"quickchart('df-6981412b-b915-4e40-bda8-0f20827341b8')\"\n",
              "            title=\"Suggest charts\"\n",
              "            style=\"display:none;\">\n",
              "\n",
              "<svg xmlns=\"http://www.w3.org/2000/svg\" height=\"24px\"viewBox=\"0 0 24 24\"\n",
              "     width=\"24px\">\n",
              "    <g>\n",
              "        <path d=\"M19 3H5c-1.1 0-2 .9-2 2v14c0 1.1.9 2 2 2h14c1.1 0 2-.9 2-2V5c0-1.1-.9-2-2-2zM9 17H7v-7h2v7zm4 0h-2V7h2v10zm4 0h-2v-4h2v4z\"/>\n",
              "    </g>\n",
              "</svg>\n",
              "  </button>\n",
              "\n",
              "<style>\n",
              "  .colab-df-quickchart {\n",
              "      --bg-color: #E8F0FE;\n",
              "      --fill-color: #1967D2;\n",
              "      --hover-bg-color: #E2EBFA;\n",
              "      --hover-fill-color: #174EA6;\n",
              "      --disabled-fill-color: #AAA;\n",
              "      --disabled-bg-color: #DDD;\n",
              "  }\n",
              "\n",
              "  [theme=dark] .colab-df-quickchart {\n",
              "      --bg-color: #3B4455;\n",
              "      --fill-color: #D2E3FC;\n",
              "      --hover-bg-color: #434B5C;\n",
              "      --hover-fill-color: #FFFFFF;\n",
              "      --disabled-bg-color: #3B4455;\n",
              "      --disabled-fill-color: #666;\n",
              "  }\n",
              "\n",
              "  .colab-df-quickchart {\n",
              "    background-color: var(--bg-color);\n",
              "    border: none;\n",
              "    border-radius: 50%;\n",
              "    cursor: pointer;\n",
              "    display: none;\n",
              "    fill: var(--fill-color);\n",
              "    height: 32px;\n",
              "    padding: 0;\n",
              "    width: 32px;\n",
              "  }\n",
              "\n",
              "  .colab-df-quickchart:hover {\n",
              "    background-color: var(--hover-bg-color);\n",
              "    box-shadow: 0 1px 2px rgba(60, 64, 67, 0.3), 0 1px 3px 1px rgba(60, 64, 67, 0.15);\n",
              "    fill: var(--button-hover-fill-color);\n",
              "  }\n",
              "\n",
              "  .colab-df-quickchart-complete:disabled,\n",
              "  .colab-df-quickchart-complete:disabled:hover {\n",
              "    background-color: var(--disabled-bg-color);\n",
              "    fill: var(--disabled-fill-color);\n",
              "    box-shadow: none;\n",
              "  }\n",
              "\n",
              "  .colab-df-spinner {\n",
              "    border: 2px solid var(--fill-color);\n",
              "    border-color: transparent;\n",
              "    border-bottom-color: var(--fill-color);\n",
              "    animation:\n",
              "      spin 1s steps(1) infinite;\n",
              "  }\n",
              "\n",
              "  @keyframes spin {\n",
              "    0% {\n",
              "      border-color: transparent;\n",
              "      border-bottom-color: var(--fill-color);\n",
              "      border-left-color: var(--fill-color);\n",
              "    }\n",
              "    20% {\n",
              "      border-color: transparent;\n",
              "      border-left-color: var(--fill-color);\n",
              "      border-top-color: var(--fill-color);\n",
              "    }\n",
              "    30% {\n",
              "      border-color: transparent;\n",
              "      border-left-color: var(--fill-color);\n",
              "      border-top-color: var(--fill-color);\n",
              "      border-right-color: var(--fill-color);\n",
              "    }\n",
              "    40% {\n",
              "      border-color: transparent;\n",
              "      border-right-color: var(--fill-color);\n",
              "      border-top-color: var(--fill-color);\n",
              "    }\n",
              "    60% {\n",
              "      border-color: transparent;\n",
              "      border-right-color: var(--fill-color);\n",
              "    }\n",
              "    80% {\n",
              "      border-color: transparent;\n",
              "      border-right-color: var(--fill-color);\n",
              "      border-bottom-color: var(--fill-color);\n",
              "    }\n",
              "    90% {\n",
              "      border-color: transparent;\n",
              "      border-bottom-color: var(--fill-color);\n",
              "    }\n",
              "  }\n",
              "</style>\n",
              "\n",
              "  <script>\n",
              "    async function quickchart(key) {\n",
              "      const quickchartButtonEl =\n",
              "        document.querySelector('#' + key + ' button');\n",
              "      quickchartButtonEl.disabled = true;  // To prevent multiple clicks.\n",
              "      quickchartButtonEl.classList.add('colab-df-spinner');\n",
              "      try {\n",
              "        const charts = await google.colab.kernel.invokeFunction(\n",
              "            'suggestCharts', [key], {});\n",
              "      } catch (error) {\n",
              "        console.error('Error during call to suggestCharts:', error);\n",
              "      }\n",
              "      quickchartButtonEl.classList.remove('colab-df-spinner');\n",
              "      quickchartButtonEl.classList.add('colab-df-quickchart-complete');\n",
              "    }\n",
              "    (() => {\n",
              "      let quickchartButtonEl =\n",
              "        document.querySelector('#df-6981412b-b915-4e40-bda8-0f20827341b8 button');\n",
              "      quickchartButtonEl.style.display =\n",
              "        google.colab.kernel.accessAllowed ? 'block' : 'none';\n",
              "    })();\n",
              "  </script>\n",
              "</div>\n",
              "\n",
              "    </div>\n",
              "  </div>\n"
            ],
            "application/vnd.google.colaboratory.intrinsic+json": {
              "type": "dataframe",
              "variable_name": "data",
              "summary": "{\n  \"name\": \"data\",\n  \"rows\": 5000,\n  \"fields\": [\n    {\n      \"column\": \"title\",\n      \"properties\": {\n        \"dtype\": \"string\",\n        \"num_unique_values\": 4961,\n        \"samples\": [\n          \"Brooks Koepka Wins First Major at U.S. Open - Breitbart\",\n          \"Why Does Fall Foliage Turn So Red and Fiery? It Depends. - The New York Times\",\n          \"Tim Kaine Compares Donald Trump\\u2019s Comments on Russian Hacking to Watergate Scandal - The New York Times\"\n        ],\n        \"semantic_type\": \"\",\n        \"description\": \"\"\n      }\n    },\n    {\n      \"column\": \"author\",\n      \"properties\": {\n        \"dtype\": \"category\",\n        \"num_unique_values\": 1709,\n        \"samples\": [\n          \"Roni Caryn Rabin\",\n          \"Amanda Monteiro\",\n          \"Robert D. McFadden\"\n        ],\n        \"semantic_type\": \"\",\n        \"description\": \"\"\n      }\n    },\n    {\n      \"column\": \"text\",\n      \"properties\": {\n        \"dtype\": \"string\",\n        \"num_unique_values\": 4951,\n        \"samples\": [\n          \"Were I healthy enough these days, I would be sipping a glass of free wine and running my hands over an exquisite accent pillow in an impossibly hip showroom called something like Space or Lust, while a sales assistant speaks to me of the virtues of aniline versus   leather. \\u201cSo you really think   hardwood is worth the extra expense?\\u201d I\\u2019d be asking. And, \\u201cDoes this come in a  ?\\u201d Instead, I\\u2019m propped in bed on a dozen pillows with my laptop, perusing online furniture stores: West Elm, Joybird, Crate  Barrel and something called Chairish. I am an internet   fiend. I take breaks only when the oxy overwhelms me and my head starts to loll. I cannot rest until I have considered every        sofa the worldwide web has to offer. I pore over design sites like Apartment Therapy, Design Sponge and Domino: searching, searching. Since John and I married 16 years ago, we have never had a real   couch. We\\u2019ve had plenty of   misfits: \\u201cas is\\u201d Ikea specials, parental handoffs, Craigslist   roadside rescues. First we were broke, and then we had babies. It never seemed like the right time to splurge on anything nice. And the misfits have been fine. We\\u2019re not fancy, and our taste is eclectic. Our house is full of objects that are stronger on personality than looks: the wood box my father and uncles sat on as children to lace their boots for sledding, a lumpy chaise by the front window in the world\\u2019s coziest reading nook. Anyway, whenever we have needed to get down to the serious business of life, we have always preferred to retreat to our bed: our war room, cocoon, escape hatch and, at times, dining room. But in the weeks after I learned that the breast cancer I have been in treatment for over the past year had spread to my bones  \\u2014   breaking my spine and becoming incurable and most likely fatal  \\u2014   finding the perfect   couch has begun to feel like the most important thing I\\u2019ve ever done. Except, just when I find one I love, it turns out I can\\u2019t click \\u201cbuy now. \\u201d And commitment issues have not generally been my problem. Houses, cars,            mastectomy: Bring it. Usually I just pick a   option and don\\u2019t look back. Within 10 minutes of meeting John at a summer job at 21, I had already mentally signed on for life  \\u2014   although I waited at least a week to tell him that. But the couch. I can\\u2019t do it. Maybe I\\u2019m holding off until after my next big oncology appointment, as though something my doctor may say will help determine whether I am willing to spend the extra money for Dacron batting and   cushions. She promised some new thoughts about treatment options: immunotherapy, clinical trials,   drugs, acupuncture, the dreaded \\u201cwatchful waiting. \\u201d It\\u2019s a complicated calculus. On the one hand, a basic   analysis: How much money do I want to spend on something I may not be around to really enjoy? On the other: Isn\\u2019t buying an expensive couch a kind of lovely expression of hopefulness? And after I\\u2019m gone, don\\u2019t I still want guests in my home to feel comfortable and stylish? None of this was supposed to happen. At 38, I wasn\\u2019t supposed to lie on my back in the E. R. on a late December morning and be told by a teary radiation oncology resident that the pain I\\u2019d been having for two months  \\u2014   that I\\u2019d been assured was from having a weak core after months of chemo  \\u2014   was actually from a tumor that had devoured my L2 vertebra. John wasn\\u2019t supposed to have to hold me up on the toilet. Put my pants on for me. Do Christmas Eve for the children without me. I\\u2019m not supposed to be thinking about where he will sit and hold my hand as I take my last breath. Despite all the pamphlets the social workers gave us when I was in the hospital, we don\\u2019t really know how to talk to our boys yet. They are 6 and 9. They know about the cancer and the back break, but they don\\u2019t really know what it all means. Instead I ask the    \\u201cWhat do you think of leather upholstery?\\u201d \\u201cDepends if it\\u2019s slippery or nuzzly,\\u201d he says. Excellent point. I think I need to take any bonded leather options  \\u2014   no matter how cute or economical they seem  \\u2014   off my favorites lists and go with  . The day after the emergency surgery, when my doctor was sitting on the end of my bed in the oncology ward, I saw her glance toward those pamphlets that had been left on the bedside table: \\u201cWhat to Tell Your Children About Your Progressive Disease. \\u201d She\\u2019s a mother, too. Her children are only a couple of years older than mine. \\u201cIs it time to despair?\\u201d she said during a pause in our discussion about pain management and radiation, maybe reading one of the pamphlet headings. \\u201cNo!\\u201d she proclaimed, staring straight at me. \\u201cNo, it is not. \\u201d I trust her completely, even after the chemo failed twice and the cancer spread when she said it wouldn\\u2019t. Whatever it is in oncologists that makes them want to be oncologists  \\u2014   that crazy mix of fierceness, optimism, arrogance and compassion  \\u2014   I get a contact high from it. It\\u2019s like love at first sight, or touching something on fire. It\\u2019s like making a choice and refusing to look back. John is mildly   averse, but he\\u2019s treading carefully. He knows me well enough to understand that when I\\u2019m dissertating on the merits of tufted cushions, I\\u2019m chewing on something else. \\u201cCustom upholstery, really? With two boys?\\u201d he asks, flipping through insurance statements on the counter. \\u201cO. K. well, I think you should get whatever you\\u2019re into. \\u201d One big upside of being told I have incurable cancer is that after all these years, my husband has finally stopped smugly saying, \\u201cIt\\u2019s your funeral,\\u201d when I make a decision he doesn\\u2019t agree with. \\u201cDid you spend thousands of dollars on the internet today?\\u201d he asks when he gets home from work and finds me with my pillows and   bottles on the   couch where he left me in the morning, a   rattan situation my parents bought as patio furniture in the early \\u201990s. \\u201cNot today,\\u201d I say. \\u201cNice,\\u201d he says. \\u201cDo you want to go get in bed together and stare at the ceiling?\\u201d I do. We do. In January, the afternoon already looks like evening. \\u201cCan you believe we found out you have incurable cancer on, literally, the darkest day of the year?\\u201d John asks as we hold hands and stare up toward the same blank spot above our bed. \\u201cYeah, I totally can,\\u201d I say. We both laugh. I have always loved the sound of him laughing: soft and comfortable, understated, offbeat, with unmistakably sleek midcentury lines. He takes me gingerly in his arms as if we are awkward teenagers. My back spasms, but I wiggle closer to him until I can put my head on his chest and hear his heart beating. Downstairs, the boys gaze at a screen on the old futon in the playroom. We will figure out what to do about them soon enough. They probably already know what\\u2019s up and are waiting for us to figure out how to say it. Despite not being much of a Christmas person myself, I hated not being able to watch them open presents and can\\u2019t bear the thought of never doing it again. Their very existence is the one dark piece I cannot get right with in all this. I can let go of a lot of things: plans, friends, career goals, places in the world I want to see, maybe even the love of my life. But I cannot figure out how to let go of mothering them. So maybe I don\\u2019t try to figure it out. Maybe I just aim to get the couch right: strong bones,   leather, something earthy and animal and real. A surface that knows something of what it was to be alive, that warms to our touch and cools in our absence. Also: an expansive bench that fits all of us. Something that will hold us through everything that lies ahead  \\u2014   the loving, collapsing and nuzzling. The dying, the grieving. I know my thoughts have probably diverged from whatever John is thinking about in the near dark of our bedroom. He is silent. Maybe he is dozing. Buying a sofa online, like many of life\\u2019s biggest decisions, takes research and trust, but mostly trust. As I lie here, with John\\u2019s chest rising and falling under my cheek, I realize that my careful calculations (How long do I have left? Who am I really buying this couch for? Am I getting a good deal?) are irrelevant. As in all things, I have to believe I\\u2019ll know what\\u2019s right when I see it.\",\n          \"By Julian Assange \\nIn recent months, WikiLeaks and I personally have come under enormous pressure to stop publishing what the Clinton campaign says about itself to itself. That pressure has come from the campaign\\u2019s allies, including the Obama administration, and from liberals who are anxious about who will be elected US President. \\nOn the eve of the election, it is important to restate why we have published what we have. \\nThe right to receive and impart true information is the guiding principle of WikiLeaks \\u2013 an organization that has a staff and organizational mission far beyond myself. Our organization defends the public\\u2019s right to be informed. \\nThis is why, irrespective of the outcome of the 2016 US Presidential election, the real victor is the US public which is better informed as a result of our work. \\nThe US public has thoroughly engaged with WikiLeaks\\u2019 election related publications which number more than one hundred thousand documents. Millions of Americans have pored over the leaks and passed on their citations to each other and to us. It is an open model of journalism that gatekeepers are uncomfortable with, but which is perfectly harmonious with the First Amendment. \\nWe publish material given to us if it is of political, diplomatic, historical or ethical importance and which has not been published elsewhere. When we have material that fulfills this criteria, we publish. We had information that fit our editorial criteria which related to the Sanders and Clinton campaign (DNC Leaks) and the Clinton political campaign and Foundation (Podesta Emails). No-one disputes the public importance of these publications. It would be unconscionable for WikiLeaks to withhold such an archive from the public during an election. \\nAt the same time, we cannot publish what we do not have. To date, we have not received information on Donald Trump\\u2019s campaign, or Jill Stein\\u2019s campaign, or Gary Johnson\\u2019s campaign or any of the other candidates that fufills our stated editorial criteria. As a result of publishing Clinton\\u2019s cables and indexing her emails we are seen as domain experts on Clinton archives. So it is natural that Clinton sources come to us. \\nWe publish as fast as our resources will allow and as fast as the public can absorb it. \\nThat is our commitment to ourselves, to our sources, and to the public. \\nThis is not due to a personal desire to influence the outcome of the election. The Democratic and Republican candidates have both expressed hostility towards whistleblowers. I spoke at the launch of the campaign for Jill Stein, the Green Party candidate, because her platform addresses the need to protect them. This is an issue that is close to my heart because of the Obama administration\\u2019s inhuman and degrading treatment of one of our alleged sources, Chelsea Manning. But WikiLeaks publications are not an attempt to get Jill Stein elected or to take revenge over Ms Manning\\u2019s treatment either. \\nPublishing is what we do. To withhold the publication of such information until after the election would have been to favour one of the candidates above the public\\u2019s right to know. \\nThis is after all what happened when the New York Times withheld evidence of illegal mass surveillance of the US population for a year until after the 2004 election, denying the public a critical understanding of the incumbent president George W Bush, which probably secured his reelection. The current editor of the New York Times has distanced himself from that decision and rightly so. \\nThe US public defends free speech more passionately, but the First Amendment only truly lives through its repeated exercise. The First Amendment explicitly prevents the executive from attempting to restrict anyone\\u2019s ability to speak and publish freely. The First Amendment does not privilege old media, with its corporate advertisers and dependencies on incumbent power factions, over WikiLeaks\\u2019 model of scientific journalism or an individual\\u2019s decision to inform their friends on social media. The First Amendment unapologetically nurtures the democratization of knowledge. With the Internet, it has reached its full potential. \\nYet, some weeks ago, in a tactic reminiscent of Senator McCarthy and the red scare, Wikileaks, Green Party candidate Stein, Glenn Greenwald and Clinton\\u2019s main opponent were painted with a broad, red brush. The Clinton campaign, when they were not spreading obvious untruths, pointed to unnamed sources or to speculative and vague statements from the intelligence community to suggest a nefarious allegiance with Russia. The campaign was unable to invoke evidence about our publications\\u2014because none exists. \\nIn the end, those who have attempted to malign our groundbreaking work over the past four months seek to inhibit public understanding perhaps because it is embarrassing to them \\u2013 a reason for censorship the First Amendment cannot tolerate. Only unsuccessfully do they try to claim that our publications are inaccurate. \\nWikiLeaks\\u2019 decade-long pristine record for authentication remains. Our key publications this round have even been proven through the cryptographic signatures of the companies they passed through, such as Google. It is not every day you can mathematically prove that your publications are perfect but this day is one of them. \\nWe have endured intense criticism, primarily from Clinton supporters, for our publications. Many long-term supporters have been frustrated because we have not addressed this criticism in a systematic way or responded to a number of false narratives about Wikileaks\\u2019 motivation or sources. Ultimately, however, if WL reacted to every false claim, we would have to divert resources from our primary work. \\nWikiLeaks, like all publishers, is ultimately accountable to its funders. Those funders are you. Our resources are entirely made up of contributions from the public and our book sales. This allows us to be principled, independent and free in a way no other influential media organization is. But it also means that we do not have the resources of CNN, MSNBC or the Clinton campaign to constantly rebuff criticism. \\nYet if the press obeys considerations above informing the public, we are no longer talking about a free press, and we are no longer talking about an informed public. \\nWikileaks remains committed to publishing information that informs the public, even if many, especially those in power, would prefer not to see it. WikiLeaks must publish. It must publish and be damned. Share:\",\n          \"(Before It's News)\\nAbadi says they enter new phase for liberation of Mosul\\n\\u201cOver 60 civilians killed in US-led air raids on Mosul\\u201d\\nIraqi forces seize tank, artillery from terrorists\\nUN says Daesh reportedly executed dozens near Mosul\\nBattle for Mosul on Wednesday: Battle to Liberate Mosul in Advanced Stage\\nMilitary operation by the joint Iraqi forces to liberate the city of Mosul continued on Wednesday and Iraqi Prime Minister Haider al-Abadi said the military campaign has now come to an advanced phase, noting that the performance of the Iraqi army in the war on ISIL has surprised its international partners.\\nAbadi: Battle to Liberate Mosul Reaches Advanced Stage\\nIraqi Prime Minister Haider al-Abadi announced that the Iraqi forces reached an advanced stage in the battle to liberate Mosul, and said the performance of the Iraqi army in the war on ISIL has surprised the international coalition.\\n\\u201cWe reached an advanced stage in the battle to liberate the city of Mosul, and our plan is not to evacuate the families from the cities during the liberation operations,\\u201d Abadi said during a news conference in Baghdad.\\nAbadi also pointed out to the continuous cooperation between the security forces and displaced people\\u2019s committees, and confirmed that they were able to provide food and fuel for displaced families in the liberated areas.\\nIraqi Forces Evacuate 1,000 Civilians from Front Lines\\nIraqi Special Forces moved more than 1,000 people from villages near the front lines of the battle to retake the ISIL-held city of Mosul.\\nThe Iraqi Army Special Forces Major General Haider Fadhil said the residents of Tob Zawa and other nearby villages have been taken to a camp in the nearby Khazer region for their safety, Alaraby reported.\\nThe Special Forces began undertaking clean up operations on Wednesday in areas retaken from the militants to the East of the city.\\nLarge Cache of ISIL Weapons Seized near Bashiqa\\nIraqi Peshmerga forces said on Wednesday that they have found a tunnel, which is the largest ISIL weapons depot discovered so far in the Bashiqa front.\\nThe tunnel, which has been found in Tiz Khrab Gawra village, contained a large number of weapons, Rudaw reported.\\nIraq\\u2019s Peshmerga forces on Monday retook complete control of Bashiqa town, 13 km Northeast of Mosul.\\nIraqi Army Kicks Off Zawaya Liberation Operation\\nIraq\\u2019s joint military forces started their military operations to liberate Zawaya region, Commander of Iraq\\u2019s Counterterrorism Forces Major General Abdolvahab al-Saedi announced on Wednesday.\\n\\u201cAfter seizing back Zawaya region, the security forces will continue their military operation to take control of Kokajli district inside the city of Mosul,\\u201d al-Saedi said.\\nISIL Militants Disguise as Peshmerga, Shave Beard to Flee Mosul\\nAn Iraqi security source revealed that many ISIL militants have begun to wear the Peshmerga forces\\u2019 uniforms inside the city of Mosul and have shaved their beards for fear of being targeted as Iraqi joint forces continued their advanced toward the ISIL-held city.\\n\\u201cMany militants of the ISIL terror group have wear the military uniforms of the Peshmerga forces for camouflage and to divert the suspicion from them within the city of Mosul,\\u201d a security source said, Badr News reported.\\nThe source added that \\u201cMost of the ISIL terrorists have also begun to shave their beards for fear of being targeted\\u201d.\\nReport: ISIL\\u2019s Treasury Man, Economic Brain Disappears with Millions of Dollars in Mosul\\nA top ISIL member in charge of the terrorist group\\u2019s financial resources along with a German woman who trained ISIL\\u2019s female suicide attackers fled with millions of dollars from the city of Mosul in Nineveh province, media reports said Wednesday.\\n\\u201cISIL\\u2019s financial chief known as Abi Motaz al-Qahtani has disappeared with a German woman who was in charge of training ISIL\\u2019s female suicide bombers,\\u201d the Arabic-language al-Sumeriya news channel Quote: d a local source as saying on Wednesday.\\nThe source noted that the disappearance of al-Qahtani and the unnamed German woman has been a planned move as they have escaped with important dossiers and millions of dollars in cash.\\nIraqi Analyst Discloses Plot to Transfer Al-Baghdadi to Libya\\nA prominent Iraqi military analyst disclosed that Riyadh and Ankara had hatched plots to transfer ISIL leader Abu Bakr al-Baghdadi from Mosul to Libya but the massive presence of the popular forces and Russian fighter jets at the bordering areas of Iraq and Syria dissuaded them.\\n\\u201cThe two countries were working to take al-Baghdadi to Turkey either by moving him through Mosul and Kirkuk to the North or through al-Qa\\u2019em and al-Ratba corridor to Deir Ezzur in Syria and then to Turkey to eventually transfer him to Libya,\\u201d Safa al-A\\u2019asam told Iraq\\u2019s al-Ma\\u2019louma news agency on Wednesday.\\nHe added that the ISIL concluded that transferring al-Baghdadi through Tal Afar region to Raqqa in Syria is also impossible given the massive presence of Hashd al-Sha\\u2019abi (popular forces) in the Southern front near Be\\u2019aaj district, Northwest of the Iraqi province of Nineveh as well as the numerous flights done by the Russian fighter jets over the Syrian bordering areas with Iraq.\\nRussian Military: US Air Force Jet Struck School in Iraq\\u2019s Mosul\\nA US warplane hit a girls\\u2019 school in the South of the Iraqi city of Mosul on October 21, the Russian General Staff\\u2019s chief said.\\n\\u201cOn October 21, a US Air Force plane carried out an airstrike against a girls\\u2019 school in the Southern part of the city of Mosul,\\u201d said Lt. Gen. Sergei Rudskoi, RIA Novosti reported.\\nMore than 60 civilians died and 200 were wounded because of the US-led coalition\\u2019s airstrikes on residential areas in Mosul and its outskirts in the last three days, he said.\\nISIL Burns Nine Own Militants Alive in Iraq\\u2019s Mosul\\nThe militants of the ISIL terrorist group executed nine of their supporters for duck-out in the Iraqi city of Mosul, media reported on Tuesday.\\n\\u201cISIL militants executed nine of their militants, who escaped from the confrontation with the security forces in Mosul, throwing them in the trenches full of black oil for burning with hands and feet tied,\\u201d a source in Iraq\\u2019s security forces said, Al Sumeriya reported.\\nOn October 17, Iraqi Prime Minister Haider Abadi announced the start of a military operation to retake Mosul from the ISIL terror group.\\nArab Media: General Soleimani in Mosul Operations Room\\nCommander of the Quds Force of the Islamic Revolution Guards Corps (IRGC) Major General Qassem Soleimani has arrived in Hashd al-Sha\\u2019abi (popular forces) operations room in Mosul to play his advisory role in anti-ISIL campaign in Iraq, Arab media reported on Wednesday.\\n\\u201cHashd al-Sha\\u2019abi will soon start its operations in Western Mosul to cut the ISIL\\u2019s supply routes to Syria and defuse the US plots to postpone the popular forces\\u2019 participation in the Mosul operations, and General Soleimani has also joined them as a military advisor,\\u201d the Arabic-language al-Akhbar said quoting renowned Iraqi figures.\\nNo other source has yet confirmed the report.\\nWashington is pressuring Iraqi Prime Minister Haider al-Abadi not to allow Hashd al-Sha\\u2019abi forces to participate in the Mosul liberation operations.\\nSpokesman of the Iraqi popular forces Ahmad al-Assadi had confirmed in August that General Soleimani would play a major role in operations to liberate Mosul, stressing that his country is in dire need of Iranian military advisors.\\n\\u201cThe presence of Brigadier-General Soleimani in the operations to free Mosul and Nineveh province is necessary and General Soleiman is the greatest advisor that has helped the Iraqi government in the war against the ISIL,\\u201d al-Assadi told FNA.\\n\\u201cHajj Qassem Soleimani is one of the most important military advisors of the Islamic Republic of Iran who is in Iraq at the invitation, demand and agreement of the Iraqi government,\\u201d he added.\\nStressing that the Iranian advisors are in Iraq at the demand of the Iraqi government and have played a big role in most operations conducted by the popular forces, al-Assadi said, \\u201cThey provided the Iraqis with strong views and important consultations with respect to their experience and capabilities.\\u201d\\nIn relevant remarks in June, Iraqi Foreign Minister Ebrahim al-Jafari underlined that General Soleimani is in Iraq to help the country in campaign against terrorism after receiving Baghdad\\u2019s rigid request.\\n\\u201cGeneral Soleimani is in Iraq at the invitation of the Iraqi government to provide military counseling to the Iraqi forces,\\u201d the Arabic-language Sumeria news channel Quote: d al-Jafari as saying.\\nAlso in June, Hashd al-Sha\\u2019abi Commander Abu Mehdi al-Mohandes underlined that General Soleimani is helping the Iraqi forces in their campaign against terrorism upon a request by the Iraqi government.\\n\\u201cThe Iranian advisors, headed by dear brother Qassem Soleimani, have been beside us since the start of war and his presence has happened upon the demand of the Iraqi government and agreement of the Armed Forces\\u2019 top commander,\\u201d Mohandes said in an interview with Sumeria news channel.\\nHe, meantime, said that the Iraqi nation is able to kick the terrorists out of Iraq with the possibilities in their hands now, adding that Hashd al-Sha\\u2019abi doesn\\u2019t have any political plan and merely supports the political process.\\nAircraft Carrier \\u201cAdmiral Kuznetsov\\u201d Eenters Strait Of Gibraltar\\nNATO fears Russian battle group to be used against Aleppo civilians\\n\\u2018Intl community still financing & protecting terrorists\\u2019 \\u2013 Mother Agnes on Syria\\n\\u201cCIA supplying weapons to Daesh, al-Qaeda terrorists\\u201d\\nUK, US training militants to fight Syrian government: Analyst\\n\\u201cWestern alliance not after uprooting terrorism\\u201d\\nNATO calls for lasting ceasefire in Syria\\nNATO Concerned over Al-Nusra and Ahrar al-Sham Casualties\\nUS-led coalition preparing Raqqa assault, says Carter\\n\\u2018US coalition with Syria & Russia needed to defeat ISIS\\u2019 \\u2013 former Pentagon official\\nSAA 1st ARMORED DIVISION DESTROYED 4 BATTLE TANKS FROM JABHAT AL NUSRA IN GHOUTA\\nCombat footage of the SAA\\u2019s operations in Western Ghouta\\nSAA Soldier destroys convoy of militants in West Damascus\\nScenes from the Turkish shelling of the liberated villages\\nSyria in Last 24 Hours: Terrorists Sustain Heavy Losses in Army Offensive in Dara\\u2019a Province\\nThe Syrian army attacked the terrorists in Dara\\u2019a province, and inflicted heavy losses on them.\\nThe Syrian army killed and wounded scores of terrorists in the Northeastern territories of Dara\\u2019a province.\\nThe Syrian army also inflicted heavy losses on the terrorist groups in other key regions across Syria.\\nDara\\u2019a\\nSyrian Army\\u2019s artillery units shelled heavily a long military column of ISIL\\u2019s vehicles and forces on a road to Northeastern Dara\\u2019a, inflicting major loss and casualties on the terrorists.\\nSyrian army artillery units opened heavy fire at a group of ISIL terrorists in al-Badiyeh region as they were heading to al-Lejat region.\\nThe ISIL\\u2019s military convoy was on a road connecting North al-Shahib region to Sweida-Damascus highway when it came under the fire of artillery units.\\nThe terrorists suffered a heavy death toll and their vehicles sustained major damage in the attack.\\nPositions of Fatah al-Sham Front (formerly al-Nusra Front) in Qasr al-Saudi region North of al-Bitar farms towards the town of Tafas also came under attack by the Syrian soldiers.\\nIn the meantime, army troops targeted a Fatah al-Sham in al-Abasiyeh neighborhood, leaving several militants dead.\\nHoms\\nThe Syrian Army and popular forces continued to beat ISIL terrorists back from two main oil-rich regions in Eastern Homs, establishing a 10-kilometer-deep buffer zone around one of them.\\nThe Syrian ground troops that received strong air support from the Syrian and Russian fighter strikers inflicted major losses on the ISIL terrorists, driving the Takfiri terrorists out of more strategic heights in al-Sha\\u2019er oil-rich region.\\nIn the meantime, the army soldiers pushed ISIL back from a terrain near al-Maher oilfield and established a deep buffer zone around the energy field.\\nPositions of Fatah al-Sham Front in the villages of Deir Foul and al-Za\\u2019afaraniyeh and al-Rastasn region in Northern Homs also came under heavy attacks by the Syrian army men.\\nSyrian military forces also targeted terrorists\\u2019 movements in the villages of Rahoum, Mas\\u2019adeh, Um al-Rish and Salam al-Sharghiyeh, destroying their bases and military vehicles.\\nLattakia\\nA notorious field commander of Fatah al-Sham Front was killed in heavy fighting with the Syrian Army troops in the mountainous regions in Northern Lattakia.\\nAbu Yusuf al-Askari and a number of his forces were killed in Syrian army soldiers\\u2019 attack on Fatah al-Sham\\u2019s positions along a road to the town of Kabani in the Kurds mountain.\\nMeanwhile, Syrian warplanes targeted bases, artillery and mortar units of the terrorist groups near the towns and villages of Jabal Kanz, Tadin, Kafr Sandou, Kandeh, Marand and Qarfous in Northern Lattakia, inflicting a heavy death toll on the militants.\\nAleppo\\nSyrian Army troops and Air Force struck a large gathering of the terrorist groups in the Northern outskirts of Aleppo city, killing or wounding scores of them and foiling their plan to hit government strongholds, a military source disclosed Tuesday.\\n\\u201cFollowing sensitive intel received from army agent in the region, the Syrian government forces and fighter jets carried out surprise attacks on terrorists\\u2019 concentration centers in Haraytan and al-Malaah regions near Castello road to preempt them and defuse their plan for raiding army positions in the Northern outskirts of Aleppo city,\\u201d an army officer told FNA.\\n\\u201cDozens of militants were killed or wounded in the attack, and now the Castello road is safe and under the army\\u2019s full control,\\u201d he added.\\nElsewhere, a notorious commander of the Turkey-backed terrorist group of Nouralddeen al-Zinki was killed in clashes with the Syrian Army and popular forces in Salahuddin district.\\nAbu Omar Danial was killed in a heavy fighting with Syrian government forces in Salahuddin district Southwest of Aleppo city.\\nIn the meantime, Syrian government forces captured several building blocks in Salahuddin after hours of non-stop clashes with al-Zinki terrorists.\\nThe Syrian army and popular forces also engaged in fierce clashes with Jeish al-Fatah in the districts of Sheikh Saeed, and al-Ameriyeh, beating them back from more positions.\\nSyrian army\\u2019s artillery and missile units, for their part, continued to shell terrorists\\u2019 centers in Housing Project 1070, and the Syrian soldiers are now engaged in an intense battle with terrorists to take back Mouteh, Ahad and al-Mohebah hills near al-Bazo height.\\nSyrian and Russian fighter jets, for their part, have been bombing terrorists\\u2019 gatherings and bases in the town of Khan Touman, Rashedeen region, Ramouseh road, near Housing Project 1070, and the districts of Bostan al-Pasha, Suleiman al-Halabi and Sheikh Saeed.\\nDamascus\\nTerrorist groups lost at least 23 rebels as their attack on government positions in Western Ghouta was repelled by the Syrian Army troops and popular forces.\\nSyrian government forces fended off terrorist groups\\u2019 offensive on their strongholds along Khan al-Sheih-Deir al-Khabiyeh road, inflicting 23 casualties on the militants and destroying at least three tanks of the Takfiri groups.\\nThe clashes occurred in al-Diwan neighborhood in the Southwestern countryside of Deir al-Khabiyeh.\\nIn the meantime, the Syrian fighter jets pounded Jeish al-Islam\\u2019s centers near the town of al-Reihan in Eastern Damascus.\\nHama\\nTerrorist groups lost at least 23 rebels as their attack on government positions in Western Ghouta was repelled by the Syrian Army troops and popular forces.\\nSyrian government forces fended off terrorist groups\\u2019 offensive on their strongholds along Khan al-Sheih-Deir al-Khabiyeh road, inflicting 23 casualties on the militants and destroying at least three tanks of the Takfiri groups.\\nThe clashes occurred in al-Diwan neighborhood in the Southwestern countryside of Deir al-Khabiyeh.\\nIn the meantime, the Syrian fighter jets pounded Jeish al-Islam\\u2019s centers near the town of al-Reihan in Eastern Damascus.\\nFatah al-Sham also lost a large number of military vehicles and tanks in the attacks.\\nThe Russian air force also targeted terrorists\\u2019 centers on the Eastern side of al-Salamiyah, inflicting major loss and casualties on the militants.\\nMilitary sources said that heavy bombardments of the Russian and Syrian fighter jets pave the ground for the government forces to launch fresh operation to take back Souran and Taybat al-Imam.\\nFarsnews\\nHundreds of Syrian Army Special Forces Arrive in Aleppo\\nGov\\u2019t Forces Continue to Advance against Terrorists in Housing Project 1070 in Aleppo\\nSyrian Artillery, Air Attacks Preempt Terrorists\\u2019 Great Epic Operation in Aleppo\\nLong Military Convoy of Terrorists Targeted by Syrian Army in Southwestern Damascus\\nSyrian Gov\\u2019t Forces Take Back Three More Regions From Terrorists in Hama\\nSyrian Army Seizes Militants\\u2019 Weapons, Ammunition in Damascus Countryside\\nSenior Terrorist Commander Killed in Syrian Air Raids in Hama\"\n        ],\n        \"semantic_type\": \"\",\n        \"description\": \"\"\n      }\n    },\n    {\n      \"column\": \"label\",\n      \"properties\": {\n        \"dtype\": \"number\",\n        \"std\": 0,\n        \"min\": 0,\n        \"max\": 1,\n        \"num_unique_values\": 2,\n        \"samples\": [\n          0,\n          1\n        ],\n        \"semantic_type\": \"\",\n        \"description\": \"\"\n      }\n    },\n    {\n      \"column\": \"content\",\n      \"properties\": {\n        \"dtype\": \"string\",\n        \"num_unique_values\": 4997,\n        \"samples\": [\n          \"land win seven golden globe moonlight win best drama new york times\\u2022 record seven award musical land include best picture comedy musical win ryan gosling emma stone moonlight best picture drama meryl streep give impassioned politically charge speech receive cecil demille award casey affleck viola davis isabelle huppert tracee elli ross also award list winner categories the crown atlanta triumphant wesley morris melena ryzik dave itzkoff provide commentary time also red carpet land dominate 74th golden globe sunday receive promotional boost form lavish tribute kick award telecast collect record seven prize include one best comedy musical film four globe since 1979 crime drama midnight express receive six previous number daze officially say force behind land damien chazelle accept direct award note land plot dreamer try make show business emma stone say accept award best actress musical comedy think hope creativity two important thing world that movie about land make lionsgate also globes song score screenplay actor bliss felt land cast crew likely mirror disappointment involve moonlight night film despite six nomination moonlight young black man grow miami receive lone trophy albeit important one best drama please tell friend tell friend tell friend barry jenkins director moonlight say accept award try boost art film box office performance year hollywood excoriate lack diversity oscars inclusion major theme sunday this woman color colorful people whose story ideas thought always consider worthy say tracee elli ross accept best television actress globe role abc series want know see you see you ross first black woman win category since 1983 debbie allen fame several surprise isabelle huppert take best actress drama french film elle beat natalie portman favor win jackie elle thriller businesswoman track rapist also best foreign film foreign journalist bestow globe know spread award far wide several film receive nothing include florence foster jenkins lion hacksaw ridge hell high water manchester sea despite five nomination honor best actor category casey affleck hbo despite nomination network shut altogether first award night best support actor drop jaws aaron performance tom ford nocturnal animal beat favorite like mahershala ali moonlight make thank you say look bit startle surprise almost one viola davis take support actress prize play 1950s homemaker fence doling two kiss one husband one denzel washington direct fence star davis thanked producer take risk film doesn scream moneymaker say but scream art scream heart early television award widely distribute series atlanta aspire rapper manager cousin honor best comedy donald glover best comedic actor performance show beat like rami malek robot bob odenkirk good call saul best actor drama billy bob thornton honor performance goliath show little buzz best actress drama go claire foy play young queen elizabeth netflix the crown best dramatic series expect the people simpson crime story name best sarah paulson repeat win emmy collect trophy portrayal prosecutor marcia clark show paulson shower hug return seat night get jerky start host jimmy fallon open show taped land number become befuddled teleprompter malfunction still keep breezy let make tonight celebration fallon say monologue despite promise preshow interview zing donald trump ahead inauguration fallon even keep political joke minimum one place leave america still honor popular vote say almost mumble casual movie fan annual oscar race start globe oscar nomination ballot due friday hollywood foreign press association group behind globe work recent year make television honor relevant lean toward rookie show like the affair transparent hollywood stylist spend week fret weather forecast day look like torrential rain would threaten repeat 2010 globe ceremony red carpet turn swamp sunday however angelenos awakened another day sun borrow lyric land meryl streep globe nominee winner accept cecil demille lifetime achievement award give impassioned speech that never mention trump name clear reaction election take broken heart make art say quote carrie fisher trump brief telephone interview say watched globe streep speech not surprised entertainment figure criticize hollywood event meryl streep introduce hillary clinton convention lot people support hillary trump say refer streep remark democratic national convention last summer behalf mr clinton winner steer away directly criticize trump several use moment onstage take clear jab british actor hugh laurie collect actor award the night manager say say golden globe mean word hollywood foreign press add also think republican even word association sketchy trump supporter either anticipate barbs irritate many hollywood star outspoken horror election make boycottgoldenglobes trend twitter early sunday golden globe great fun red carpet among year first arrivals stallone sister year miss golden globe shepherd father sylvester publicist butter reporter news crew canada promise question sister tell they need twitter first issa rae donald glover among luminary admit feel slightly intimidate there glover say really wanted meet davis still shock huge response atlanta series suppose punk show say and screen scorsese laugh rae hbo show insecure say still adjust grow fame introvert barely leave house say bless like wow guy even though netflix upended industry stream service never best drama comedy category globe and emmys matter change year the crown name best drama claire foy play queen elizabeth best actress drama the crown beat stranger thing also netflix westworld hbo series practically require understand nbc this hbo game throne another closely watch television race best comedic actress ross beat stiff competition become first black woman win category since debbie allen 1983 also nominate globe winner sarah jessica parker role suburban mother hbo divorce rae nominate performance hbo insecure julia network veep last year winner rachel bloom crazy globe voter ardently try leave behind reputation pay attention celebrity honor year best performance upon time globe attendee also belly open bar boozy spectacle nominee heed scold eye publicist largely start stick water despite moment seriousness however globes live raucous reputation modern family star sofia vergara make anus joke stage nbc censor bleep expletive amy schumer dinner guest multiple instance chat right speech ever ballroom smoke patio chockablock star one moment sophie turner game throne light cigarette one held maisie williams young stranger thing cast member run around take selfies ever ceremony success determine nielsen rating million people watch last year million 2015 televised award show general suffer viewer erosion partly seemingly endless array them nbc high hope fallon much wide fan base gervais use tonight show perch promotional platform gig\",\n          \"russian fighter make provocative erratic approach within foot recon plane breitbartu military official tell fox news tuesday morning arm russian fighter jet fly within foot unarmed american recon plane baltic sea monday the official say russian aircraft make provocative maneuver fly erratically make rapid approach american plane military classify encounter unsafe official state russian jet missile visible wing fox news observes number provocative encounter russian plane american plane ship baltic feature russian pilot make approach close military recently complete training exercise baltic course tension high russia threaten response american downing syrian warplane sunday\"\n        ],\n        \"semantic_type\": \"\",\n        \"description\": \"\"\n      }\n    }\n  ]\n}"
            }
          },
          "metadata": {},
          "execution_count": 4
        }
      ]
    },
    {
      "cell_type": "code",
      "source": [
        "#separating the data and label\n",
        "X = data['content'].values\n",
        "Y = data['label'].values"
      ],
      "metadata": {
        "id": "9NbGoI2Zl4Uc"
      },
      "execution_count": null,
      "outputs": []
    },
    {
      "cell_type": "code",
      "source": [
        "print(Y)"
      ],
      "metadata": {
        "colab": {
          "base_uri": "https://localhost:8080/"
        },
        "id": "quWWwvNDqGBZ",
        "outputId": "645de133-cb2a-4c6d-8add-3a56f09b43bd"
      },
      "execution_count": null,
      "outputs": [
        {
          "output_type": "stream",
          "name": "stdout",
          "text": [
            "[1 0 1 ... 1 0 0]\n"
          ]
        }
      ]
    },
    {
      "cell_type": "code",
      "source": [
        "print(X)"
      ],
      "metadata": {
        "colab": {
          "base_uri": "https://localhost:8080/"
        },
        "id": "JnBWb1deqM0F",
        "outputId": "ee32273c-88a0-47f9-841c-56c99a3af7b3"
      },
      "execution_count": null,
      "outputs": [
        {
          "output_type": "stream",
          "name": "stdout",
          "text": [
            "['islamic state support former national guardsman plead guilty terrorism charge virginiaformer national guardsman turn islamic state sympathizer mohamed jalloh sterling virginia plead guilty federal court thursday terrorism charge relate july arrest fbi sting operation jalloh year old naturalized citizen sierra leone arrest july 3rd part fbi counterterrorism operation communicate federal informant interested participate fort hood style attack jalloh apprehend federal agent purchase stag arm rifle virginia arm dealer render inoperable part operation accord attorney office authority discover operation jalloh attempt provide material support islamic state assist procurement weapon use attack soil follow arrest jalloh admit travel africa join islamic state add quit national guard listen online lecture decease alqaeda leader anwar alaulaqi via justicegov …in march 2016 nowdeceased member isil broker introduction jalloh sterling virginia individual united state actually fbi confidential human source chs isil member actively plot attack united state believe attack would carry assistance jalloh chs …jalloh state recently take sixmonth trip africa meet isil member nigeria first begin communicate online isil member later broker introduction chs meeting jalloh also tell chs often think conduct attack knew shoot gun jalloh praise gunman kill five military member terrorist attack chattanooga tennessee july 2015 state think conduct attack similar november 2009 attack hood texas may 2016 meeting jalloh ask chs timeline operation comment good plan operation month ramadan jalloh also ask chs could assist provide donation isil ultimately jalloh provide prepaid cash transfer 500 contact chs jalloh believe member isil fact undercover fbi employee federal court thursday jalloh attorney joe flood state defense plan provide context february sentence hear effort explain defendant action lead decision jalloh currently face year federal prison'\n",
            " 'brexit affect travel europe new york timesin height summer travel season britain vote exit european union scramble market well political picture happen aftermath brexit know far clear american traveler head abroad see immediate effect brexit vote affect americans travel europe britain immediate effect exchange rate dollar british pound record low rate year result vote publish provide american traveler discount price pay throughout britain since yesterday get lot bang buck say zach honig editor chief thepointsguy com cover travel incentive for lot people london traditionally expensive tourist destination shift specifically london probably within reach lot traveler dollar also improve euro make travel within country use euro cheap good time book air travel yes last six week accord george hobica founder airfarewatchdog com airfares europe plummet especially late summer travel college kid back school around aug onward say noting fare europe united state appear low 400 500 may anticipation brexit don know say probably also fact euro pound drift low mean few people fly europe airline fill seat people fly europe two three year ago say summer airfare europe run 800 range current deal say gary leff author travel blog viewfromthewing com function growth capacity seat carrier like norwegian expect lag due low fuel price inexpensive inexpensive there thanks currency get good deal tour package europe britain now maybe early day exchange rate hold travel softens within europe britain expect entice travel offer usually thing happen travel industry response bring people say mike stitt north american president travelzoo publisher travel deal the real area would watch vacation deal package company tour operator work airline hotel put together strong deal entice traveler deal might surface unknown probably later year assume exchange rate hold experience european border change result brexit american must still present valid passport enter european country well britain dust settle britain extracted european union believe take year traveler european country may experience hassle foreign border one area uncertainty northern ireland member northern ireland share border republic ireland now passports require transit two country which though member european union use different currency britain withdrawal european union ireland northern ireland border would represent frontier european union though form would take unknown ireland prime minister enda kenny write guardian week what easy quantify mitigate psychological effect harden border island fear would play old narrative one division isolation difference effect felt travel industry unite state that another unknown decline pound relative dollar could affect incoming visitor britain tend visit popular destination like new york miami san francisco los angeles chicago british tourist currency fluctuation change plan don come may see ability get good price city say stitt travelzoo see little effect canadian traveler currency plummet dollar canadian stay home'\n",
            " 'donald trump gettysburg address recap7 hour ago report need know alt right click support get new amtv coffee cup rogue black sale 999 amtv httpsgooglxknuwa'\n",
            " ...\n",
            " 'business prepare hillary presidency way sure piss offshare hillary clinton presidency would devastate nation damage already unstable economy destroy constitution tax americans bleed several business aware frighten reality decide prepare others bad case scenario hillary presidency small business often affect democrat economic policy many america mom pop shop determine overcome terrify possibility become reality surprisingly silver line some certain business actually realize vote hillary election next president likely make extremely wealthy temporarily democrat presidential candidate hillary clinton gun store everywhere plan stock gun preparation rig election think hillary already decide winner although driven desire protect family many gun owner stock hillary chance try take right away vow shopped gun store even tell owner gear hillary presidency two thing drive sale like ad ever could first election campaign inevitably pit gunrights advocate ask stricter guncontrol law second tragedy news especially mass shooting jar fulton son dave gun store freedom firearm hillary clinton get elect go hand deck go crazy day say jar fulton found freedom firearm brother joel 2002 shortly michigan pass new concealedcarry law allow adult carry weapon person long they sight go several crazy day fact via independent democrat cry complain gun antic actually push sale drive number gun civilian hand exponentially high see day barack obama election day inauguration instead watch take presidential oath many second amendment supporter go purchased gun know would offend new president and win different hillary elect make mistake obama currently hold record gun salesman year every year since elect hillary surpass him firepower back decision consent corrupt presidency may key try start world war iii americans go willingly accept hillary rig invalid authority tyrannical leader try take country people duty remind founding father give second amendment'\n",
            " 'donald trump backslides campaign promise curb legal immigration breitbartpresident donald trump slide back campaign promise curb annual legal immigration roughly million foreigner interview economist magazine trump ask want curb legal immigration trump respond say prefers immigration skilled people interviewer press scale legal immigration ask be you look reduce number want people come legally strongly trump reply two economic advisor sit beside top economic staffer gary cohn steve mnuchin secretary treasury trump also back proposal keep import temporary contract worker agricultural sector even though cheap labor retard farmer emerge interest buy new machinery robot robot trump tell economist also want farm worker able come know go work visa farm worker look know lot people come border they great people work farm back home like people lot want continue come immigration reform advocate surprised trump confident trump dependence base 2020 election pressure stick campaign promise amid constant elite pressure legal immigration the president unambiguous 2016 campaign one thing say would support reduction immigration say ira mehlman communication director federation american immigration reform back off fight remind make commitment campaign intend hold tell breitbart anyone follow trump primary campaign could predict repeatedly justified guestworker visa various kind stress big beautiful door would build wall write mark krikorian director center immigration study both crowd immigration hawk mistake trump commitment enforcement which seem genuine mean also skeptical overall level immigration say add next generation populist gop leader sen tom cotton understand many harm cause mass immigration trump backslide isn do deal former president barack obama also back many promise even urge supporter publiccly protest action push back lobby block agenda obama also adopt gradualist political strategy help gop establishment ignore gradual progress towards goal achieve many goal supporter via court decision agency regulation ally appointee constant pressure trump supporter trump willing well able ignore overcome establishment opposition gradually get agenda implement august 2015 trump issue popular immigration plan raise wage reduce legal illegal immigration influx foreign worker hold salary keep unemployment high make difficult poor work class american include immigrant child earn middle class wage every year voluntarily admit another million new immigrant plus million guest worker refugee dependent grow exist historic record population million immigrant need control admission new worker order help wage grow get teenager back work aid minority rise middle class help school community fall behind ensure immigrant member national family become part american dream requirement hire american worker first many contract worker visa like requirement year 2015 million american outside workforce income collapse need company hire domestic pool unemployed petition worker mail unemployment office uscis immigration moderation new green card issue foreign worker abroad pause employer hire domestic pool unemployed immigrant native worker help reverse woman plummet workplace participation rate grow wage allow record immigration level subside moderate historical average trump repeat commitment many subsequent speech example march 2016 trump call pause legal immigration say think period year two year look back see answer second part question be stand what go say minimum one year maybe two year january 2017 inauguration speech describe theme administration buy american hire american poll show promise extremely popular example november 2016 poll ipsos show percent respondent strongly oppose plan change legal immigration system limit legal immigration four time many percent back reduction legal immigration percent take position large extent trump follow promise revive enforcement immigration law slash inflow illegal immigrant push popular reform would likely reduce inflow unskilled legal immigrant trump reform also back gop legislator want increase american productivity number american consumer trump constant pressure business leader include advisor huge incentive boost legal immigration matter cost ordinary american strictly economic term legal immigration far important illegal immigration far large far great impact employee company investor wage housing price profit stock price fact multiple economist include economist goldman sachs say government try boost size economy import consumer worker federal immigration policy add roughly million legal people worker consumer renter per year economy annual inflow expand immigrant child combine create population roughly million consumer worker count roughly million illegals child mean roughly nation consumer import 330 economy via legal illegal immigration legal inflow include skilled worker people become successful entrepreneur also dump lot unskilled worker country new generation technology expect eliminate many type job also annually shifts 500 billion employee employer wall street force state local government provide billion tax business via routine aid immigrant push million marginal worker labor force poverty crime opioid addiction high immigration also reduce employer need recruit disengage american build new facility area buy machinery demand local school rebuild high school vocational training department million youth don gain much college result poverty civic conflict increase support democrat ensure state especially california dominate democratic party policy obama annual inflow legal immigrant roughly twice inflow illegals roughly 550 000 illegals arrive 2016 few expect 2017 accord center immigration study whenever inflow extra immigrant customer threaten public opposition business group say company investor damage example july 2016 wall street firm try help hillary clinton declare trump opposition illegal immigration would hurt company investor force pay high wage reduce cost housing immigrant leave already tight labor market get tight push labor cost employer struggle fill open job position report declare trump immigration policy thus result potentially severe labor shortage high labor cost critical report promise formal unemployment rate would immediately drop third percent 2016 percent 2017 report predict housing price would drop almost percent 2018 2019 say moody report admit high wage low housing price popular throughout america reduce immigration would result slow labor force growth therefore slow growth potential gdp annual economic activity accord 2017 report goldman sachs similarly jamie dimon chairman ceo jpmorgan chase recently call amnesty illegals potentially huge increase immigration help stimulate economy hope eventually proper immigration good people pay tax haven break law get citizenship back line and people get educate here they foreign national get green card say interview dimon portray concerned economic condition ordinary american say wage haven go one wage haven go enough create living wage one people lose job automation anything else there terrible number men age participation rate that unbelievable 000 die opioids every year seventy percent kid age can get military health education obesity diabetes read write society want work thing acknowledge flaw have come solution democrat republican 2016 election show trump centrist american recognize high immigration mean reduce wage unemployment drug addition high housing price longer commute trump 2016 election wisconsin michigan pennsylvania immigration policy core impending 2020 race follow neil munro twitter neilmunrodc email author nmunrobreitbart com'\n",
            " 'brook trump lash out extremely disturb way project mental stability breitbarton friday pbs newshour new york time columnist david brook argue serious evidence collusion trump camp russia president react disturb manner brook state may witchhunt act like witch know idea there collusion russian trump campaign investigate long time far really serious evidence collude everything else seem leak out begin little suspicious maybe wrong see long term whether actual act collusion certainly conversation maybe build investment far evidence underlying crime continue but this criminal story psychological story story president seem feel pressure threat lash way painfully also extremely disturb anybody around him whether north korean cabinet hear hold recently praise him tweet late morning president who project mental stability idea fire somebody whether mueller anybody else seem plausible there something really damage here something yet happen caused psychological pressure apparently feel follow ian hanchett twitter ianhanchett']\n"
          ]
        }
      ]
    },
    {
      "cell_type": "markdown",
      "source": [
        "**TF-IDF stands for “Term Frequency – Inverse Document Frequency ”**\n",
        "- TF-IDF is a numerical statistic which measures the importance of the word in a document.\n",
        "\n",
        "- Term Frequency : Number of time a word appears in a text document.\n",
        "\n",
        "- Inverse Document Frequency : Measure the word is a rare word or common word in a document."
      ],
      "metadata": {
        "id": "iJjUeVCouQNP"
      }
    },
    {
      "cell_type": "code",
      "source": [
        "# converting the textual data to numerical data\n",
        "vectorizer = TfidfVectorizer()\n",
        "vectorizer.fit(X)\n",
        "X = vectorizer.transform(X)\n"
      ],
      "metadata": {
        "id": "z4WSkbd5t-f_"
      },
      "execution_count": null,
      "outputs": []
    },
    {
      "cell_type": "code",
      "source": [
        "print(X)"
      ],
      "metadata": {
        "colab": {
          "base_uri": "https://localhost:8080/"
        },
        "id": "LrsGG6JOu4de",
        "outputId": "28324d85-48a4-4c85-aa62-164b05ab18f5"
      },
      "execution_count": null,
      "outputs": [
        {
          "output_type": "stream",
          "name": "stdout",
          "text": [
            "  (0, 78697)\t0.01848158159009538\n",
            "  (0, 78282)\t0.008909213070447043\n",
            "  (0, 76950)\t0.020338511622500416\n",
            "  (0, 76041)\t0.05086453193108245\n",
            "  (0, 76039)\t0.07449463931407446\n",
            "  (0, 75716)\t0.020665434111565673\n",
            "  (0, 74878)\t0.01055554220171269\n",
            "  (0, 74154)\t0.025985650838143772\n",
            "  (0, 73725)\t0.03304721045885192\n",
            "  (0, 73399)\t0.02162836372984349\n",
            "  (0, 72998)\t0.013669223847133921\n",
            "  (0, 72519)\t0.02324460586454007\n",
            "  (0, 72314)\t0.019107432314929416\n",
            "  (0, 72172)\t0.02567825312117197\n",
            "  (0, 70859)\t0.03545026089782712\n",
            "  (0, 70703)\t0.036031605854595555\n",
            "  (0, 70453)\t0.022819582901363593\n",
            "  (0, 70127)\t0.021830636372615817\n",
            "  (0, 70042)\t0.02036747740621765\n",
            "  (0, 70039)\t0.0456588111204371\n",
            "  (0, 69922)\t0.032426808062857145\n",
            "  (0, 69808)\t0.011222567508223239\n",
            "  (0, 69208)\t0.009070572209464185\n",
            "  (0, 68914)\t0.038878259018341764\n",
            "  (0, 68516)\t0.026313415847728446\n",
            "  :\t:\n",
            "  (4999, 19079)\t0.05920273943880295\n",
            "  (4999, 18266)\t0.056207110205361066\n",
            "  (4999, 18250)\t0.05375095422357544\n",
            "  (4999, 17338)\t0.06274241023391869\n",
            "  (4999, 17210)\t0.03848361039028207\n",
            "  (4999, 16074)\t0.0767596678401641\n",
            "  (4999, 16008)\t0.28028764537122774\n",
            "  (4999, 16007)\t0.09882895346165937\n",
            "  (4999, 14174)\t0.062343424395285875\n",
            "  (4999, 13901)\t0.11333772709953203\n",
            "  (4999, 13106)\t0.03903557609658585\n",
            "  (4999, 13104)\t0.0688769641211388\n",
            "  (4999, 12825)\t0.07758695951312888\n",
            "  (4999, 12685)\t0.05039431390045858\n",
            "  (4999, 12392)\t0.04974897156333038\n",
            "  (4999, 12165)\t0.3164802872855991\n",
            "  (4999, 11807)\t0.09470952992692741\n",
            "  (4999, 9510)\t0.0391105479908173\n",
            "  (4999, 7174)\t0.039236242530734766\n",
            "  (4999, 7037)\t0.055402716734104206\n",
            "  (4999, 6684)\t0.06626316734521295\n",
            "  (4999, 6533)\t0.15768708573953943\n",
            "  (4999, 5398)\t0.02619596373149848\n",
            "  (4999, 3818)\t0.0690225110730632\n",
            "  (4999, 3766)\t0.0896717176225703\n"
          ]
        }
      ]
    },
    {
      "cell_type": "markdown",
      "source": [
        "**Splitting the data into train and test**"
      ],
      "metadata": {
        "id": "0TPiZ0Nxq0tN"
      }
    },
    {
      "cell_type": "code",
      "source": [
        "X_train, X_test, Y_train, Y_test = train_test_split(X, Y, test_size = 0.2, stratify=Y, random_state=2)"
      ],
      "metadata": {
        "id": "CQEbfB9xqQFx"
      },
      "execution_count": null,
      "outputs": []
    },
    {
      "cell_type": "markdown",
      "source": [
        "## LOGESTIC REGRESSION:\n",
        "\n",
        "Logistic regression is a statistical analysis method to predict a binary outcome, such as yes or no, based on prior observations of a data set. A logistic regression model predicts a dependent data variable by analyzing the relationship between one or more existing independent variables.\n",
        "\n"
      ],
      "metadata": {
        "id": "mVM-iamqvH06"
      }
    },
    {
      "cell_type": "code",
      "source": [
        "model = LogisticRegression()"
      ],
      "metadata": {
        "id": "dNyKe4VzvAQD"
      },
      "execution_count": null,
      "outputs": []
    },
    {
      "cell_type": "code",
      "source": [
        "model.fit(X_train, Y_train)"
      ],
      "metadata": {
        "colab": {
          "base_uri": "https://localhost:8080/",
          "height": 75
        },
        "id": "y4xp9x_KvSnT",
        "outputId": "80d662a4-8b34-47d9-8a23-616ca42c2c6f"
      },
      "execution_count": null,
      "outputs": [
        {
          "output_type": "execute_result",
          "data": {
            "text/plain": [
              "LogisticRegression()"
            ],
            "text/html": [
              "<style>#sk-container-id-1 {color: black;}#sk-container-id-1 pre{padding: 0;}#sk-container-id-1 div.sk-toggleable {background-color: white;}#sk-container-id-1 label.sk-toggleable__label {cursor: pointer;display: block;width: 100%;margin-bottom: 0;padding: 0.3em;box-sizing: border-box;text-align: center;}#sk-container-id-1 label.sk-toggleable__label-arrow:before {content: \"▸\";float: left;margin-right: 0.25em;color: #696969;}#sk-container-id-1 label.sk-toggleable__label-arrow:hover:before {color: black;}#sk-container-id-1 div.sk-estimator:hover label.sk-toggleable__label-arrow:before {color: black;}#sk-container-id-1 div.sk-toggleable__content {max-height: 0;max-width: 0;overflow: hidden;text-align: left;background-color: #f0f8ff;}#sk-container-id-1 div.sk-toggleable__content pre {margin: 0.2em;color: black;border-radius: 0.25em;background-color: #f0f8ff;}#sk-container-id-1 input.sk-toggleable__control:checked~div.sk-toggleable__content {max-height: 200px;max-width: 100%;overflow: auto;}#sk-container-id-1 input.sk-toggleable__control:checked~label.sk-toggleable__label-arrow:before {content: \"▾\";}#sk-container-id-1 div.sk-estimator input.sk-toggleable__control:checked~label.sk-toggleable__label {background-color: #d4ebff;}#sk-container-id-1 div.sk-label input.sk-toggleable__control:checked~label.sk-toggleable__label {background-color: #d4ebff;}#sk-container-id-1 input.sk-hidden--visually {border: 0;clip: rect(1px 1px 1px 1px);clip: rect(1px, 1px, 1px, 1px);height: 1px;margin: -1px;overflow: hidden;padding: 0;position: absolute;width: 1px;}#sk-container-id-1 div.sk-estimator {font-family: monospace;background-color: #f0f8ff;border: 1px dotted black;border-radius: 0.25em;box-sizing: border-box;margin-bottom: 0.5em;}#sk-container-id-1 div.sk-estimator:hover {background-color: #d4ebff;}#sk-container-id-1 div.sk-parallel-item::after {content: \"\";width: 100%;border-bottom: 1px solid gray;flex-grow: 1;}#sk-container-id-1 div.sk-label:hover label.sk-toggleable__label {background-color: #d4ebff;}#sk-container-id-1 div.sk-serial::before {content: \"\";position: absolute;border-left: 1px solid gray;box-sizing: border-box;top: 0;bottom: 0;left: 50%;z-index: 0;}#sk-container-id-1 div.sk-serial {display: flex;flex-direction: column;align-items: center;background-color: white;padding-right: 0.2em;padding-left: 0.2em;position: relative;}#sk-container-id-1 div.sk-item {position: relative;z-index: 1;}#sk-container-id-1 div.sk-parallel {display: flex;align-items: stretch;justify-content: center;background-color: white;position: relative;}#sk-container-id-1 div.sk-item::before, #sk-container-id-1 div.sk-parallel-item::before {content: \"\";position: absolute;border-left: 1px solid gray;box-sizing: border-box;top: 0;bottom: 0;left: 50%;z-index: -1;}#sk-container-id-1 div.sk-parallel-item {display: flex;flex-direction: column;z-index: 1;position: relative;background-color: white;}#sk-container-id-1 div.sk-parallel-item:first-child::after {align-self: flex-end;width: 50%;}#sk-container-id-1 div.sk-parallel-item:last-child::after {align-self: flex-start;width: 50%;}#sk-container-id-1 div.sk-parallel-item:only-child::after {width: 0;}#sk-container-id-1 div.sk-dashed-wrapped {border: 1px dashed gray;margin: 0 0.4em 0.5em 0.4em;box-sizing: border-box;padding-bottom: 0.4em;background-color: white;}#sk-container-id-1 div.sk-label label {font-family: monospace;font-weight: bold;display: inline-block;line-height: 1.2em;}#sk-container-id-1 div.sk-label-container {text-align: center;}#sk-container-id-1 div.sk-container {/* jupyter's `normalize.less` sets `[hidden] { display: none; }` but bootstrap.min.css set `[hidden] { display: none !important; }` so we also need the `!important` here to be able to override the default hidden behavior on the sphinx rendered scikit-learn.org. See: https://github.com/scikit-learn/scikit-learn/issues/21755 */display: inline-block !important;position: relative;}#sk-container-id-1 div.sk-text-repr-fallback {display: none;}</style><div id=\"sk-container-id-1\" class=\"sk-top-container\"><div class=\"sk-text-repr-fallback\"><pre>LogisticRegression()</pre><b>In a Jupyter environment, please rerun this cell to show the HTML representation or trust the notebook. <br />On GitHub, the HTML representation is unable to render, please try loading this page with nbviewer.org.</b></div><div class=\"sk-container\" hidden><div class=\"sk-item\"><div class=\"sk-estimator sk-toggleable\"><input class=\"sk-toggleable__control sk-hidden--visually\" id=\"sk-estimator-id-1\" type=\"checkbox\" checked><label for=\"sk-estimator-id-1\" class=\"sk-toggleable__label sk-toggleable__label-arrow\">LogisticRegression</label><div class=\"sk-toggleable__content\"><pre>LogisticRegression()</pre></div></div></div></div></div>"
            ]
          },
          "metadata": {},
          "execution_count": 17
        }
      ]
    },
    {
      "cell_type": "code",
      "source": [
        "# accuracy score on the training data\n",
        "X_train_prediction = model.predict(X_train)\n",
        "training_data_accuracy = accuracy_score(X_train_prediction, Y_train)"
      ],
      "metadata": {
        "id": "zjdT-bT_vWKx"
      },
      "execution_count": null,
      "outputs": []
    },
    {
      "cell_type": "code",
      "source": [
        "print('Accuracy score of the training data : ', training_data_accuracy)\n"
      ],
      "metadata": {
        "colab": {
          "base_uri": "https://localhost:8080/"
        },
        "id": "iAal4Yptva_R",
        "outputId": "027d10e6-284b-4798-8518-e818d718b8d2"
      },
      "execution_count": null,
      "outputs": [
        {
          "output_type": "stream",
          "name": "stdout",
          "text": [
            "Accuracy score of the training data :  0.9695\n"
          ]
        }
      ]
    },
    {
      "cell_type": "code",
      "source": [
        "# accuracy score on the test data\n",
        "X_test_prediction = model.predict(X_test)\n",
        "test_data_accuracy = accuracy_score(X_test_prediction, Y_test)"
      ],
      "metadata": {
        "id": "tHooqSuBvdwE"
      },
      "execution_count": null,
      "outputs": []
    },
    {
      "cell_type": "code",
      "source": [
        "print('Accuracy score of the test data : ', test_data_accuracy)"
      ],
      "metadata": {
        "colab": {
          "base_uri": "https://localhost:8080/"
        },
        "id": "GiyIpd4Oviyi",
        "outputId": "9a6cfb2f-d565-402a-f904-d982bd956cb0"
      },
      "execution_count": null,
      "outputs": [
        {
          "output_type": "stream",
          "name": "stdout",
          "text": [
            "Accuracy score of the test data :  0.94\n"
          ]
        }
      ]
    },
    {
      "cell_type": "markdown",
      "source": [
        "**CONFUSION MATRIX:**\n",
        "\n",
        "The confusion matrix is a 2 dimensional array comparing predicted category labels to the true label."
      ],
      "metadata": {
        "id": "5d7T3V18vrnW"
      }
    },
    {
      "cell_type": "code",
      "source": [
        "def plot_confusion_matrix(cm, classes,\n",
        "                          normalize=False,\n",
        "                          title='Confusion matrix',\n",
        "                          cmap=plt.cm.Purples):\n",
        "    plt.imshow(cm, interpolation='nearest', cmap=cmap)\n",
        "    plt.title(title)\n",
        "    plt.colorbar()\n",
        "    tick_marks = np.arange(len(classes))\n",
        "    plt.xticks(tick_marks, classes, rotation=45)\n",
        "    plt.yticks(tick_marks, classes)\n",
        "\n",
        "    if normalize:\n",
        "        cm = cm.astype('float') / cm.sum(axis=1)[:, np.newaxis]\n",
        "        print(\"Normalized confusion matrix\")\n",
        "    else:\n",
        "        print('Confusion matrix, without normalization')\n",
        "    thresh = cm.max() / 2.\n",
        "    for i, j in itertools.product(range(cm.shape[0]), range(cm.shape[1])):\n",
        "        plt.text(j, i, cm[i, j],\n",
        "                 horizontalalignment=\"center\",\n",
        "                 color=\"white\" if cm[i, j] > thresh else \"black\")\n",
        "\n",
        "    plt.tight_layout()\n",
        "    plt.ylabel('True label')\n",
        "    plt.xlabel('Predicted label')"
      ],
      "metadata": {
        "id": "xLLPUyejvli6"
      },
      "execution_count": null,
      "outputs": []
    },
    {
      "cell_type": "code",
      "source": [
        "model.fit(X_train, Y_train)\n",
        "prediction = model.predict(X_test)\n",
        "score = metrics.accuracy_score(Y_test, prediction)\n",
        "print(\"accuracy:   %0.3f\" % score)\n",
        "cm = metrics.confusion_matrix(Y_test, prediction)\n",
        "plot_confusion_matrix(cm, classes=['FAKE', 'REAL'])"
      ],
      "metadata": {
        "colab": {
          "base_uri": "https://localhost:8080/",
          "height": 541
        },
        "id": "wNnuUbbIwoOG",
        "outputId": "1491955f-fd42-4d2c-a8d5-e6dda52ea0f7"
      },
      "execution_count": null,
      "outputs": [
        {
          "output_type": "stream",
          "name": "stdout",
          "text": [
            "accuracy:   0.940\n",
            "Confusion matrix, without normalization\n"
          ]
        },
        {
          "output_type": "display_data",
          "data": {
            "text/plain": [
              "<Figure size 640x480 with 2 Axes>"
            ],
            "image/png": "[encoded data removed]"
          },
          "metadata": {}
        }
      ]
    },
    {
      "cell_type": "markdown",
      "source": [
        "### CLASSIFICATION MODEL : MULTINOMIAL NAIVE BAYES\n",
        "\n",
        "- Multinomial Naive Bayes algorithm is a probabilistic learning method that is mostly used in Natural Language Processing (NLP)\n",
        "\n",
        "- Multinomial Naïve Bayes uses term frequency i.e. the number of times a given term appears in a document. Term frequency is often normalized by dividing the raw term frequency by the document length"
      ],
      "metadata": {
        "id": "9ZFj6FicwpwT"
      }
    },
    {
      "cell_type": "code",
      "source": [
        "X1_train, X1_test, Y1_train, Y1_test = train_test_split(X, Y, test_size=0.33, random_state=42)"
      ],
      "metadata": {
        "id": "bejg1inkxAx0"
      },
      "execution_count": null,
      "outputs": []
    },
    {
      "cell_type": "code",
      "source": [
        "from sklearn.naive_bayes import MultinomialNB\n",
        "classifier=MultinomialNB()"
      ],
      "metadata": {
        "id": "T9VmATVLwxgu"
      },
      "execution_count": null,
      "outputs": []
    },
    {
      "cell_type": "code",
      "source": [
        "from sklearn import metrics\n",
        "import numpy as np\n",
        "import itertools\n",
        "\n",
        "classifier.fit(X1_train, Y1_train)\n",
        "prediction1 = classifier.predict(X1_test)\n",
        "score = metrics.accuracy_score(Y1_test, prediction1)\n",
        "print(\"accuracy:   %0.3f\" % score)\n",
        "cm1 = metrics.confusion_matrix(Y1_test, prediction1)\n",
        "plot_confusion_matrix(cm1, classes=['FAKE', 'REAL'])"
      ],
      "metadata": {
        "colab": {
          "base_uri": "https://localhost:8080/",
          "height": 541
        },
        "id": "_nW5A5JUw2PS",
        "outputId": "f06311da-09af-4ad8-a5a9-0ddf08250ff0"
      },
      "execution_count": null,
      "outputs": [
        {
          "output_type": "stream",
          "name": "stdout",
          "text": [
            "accuracy:   0.591\n",
            "Confusion matrix, without normalization\n"
          ]
        },
        {
          "output_type": "display_data",
          "data": {
            "text/plain": [
              "<Figure size 640x480 with 2 Axes>"
            ],
            "image/png": "[encoded data removed]"
          },
          "metadata": {}
        }
      ]
    },
    {
      "cell_type": "markdown",
      "source": [
        "### CLASSIFICATION MODEL : PASSIVE AGGRESSIVE CLASSIFIER\n",
        "\n",
        "Passive Aggressive Classifier works by responding as passive for correct classifications and responding as aggressive for any miscalculation."
      ],
      "metadata": {
        "id": "EDmjUprxxf9g"
      }
    },
    {
      "cell_type": "code",
      "source": [
        "X2_train, X2_test, Y2_train, Y2_test = train_test_split(X, Y, test_size=0.33, random_state=42)"
      ],
      "metadata": {
        "id": "KYGrziLaw-m_"
      },
      "execution_count": null,
      "outputs": []
    },
    {
      "cell_type": "code",
      "source": [
        "from sklearn.linear_model import PassiveAggressiveClassifier\n",
        "linear_clf = PassiveAggressiveClassifier(max_iter=50)\n",
        "\n",
        "linear_clf.fit(X2_train, Y2_train)\n",
        "prediction2 = linear_clf.predict(X2_test)\n",
        "score = metrics.accuracy_score(Y2_test, prediction2)\n",
        "print(\"accuracy:   %0.3f\" % score)\n",
        "cm2 = metrics.confusion_matrix(Y2_test, prediction2)\n",
        "plot_confusion_matrix(cm2, classes=['FAKE', 'REAL'])"
      ],
      "metadata": {
        "colab": {
          "base_uri": "https://localhost:8080/",
          "height": 541
        },
        "id": "NzX70FNsxouP",
        "outputId": "4a0a4925-b255-4f1b-c6f2-522d8bd62bc8"
      },
      "execution_count": null,
      "outputs": [
        {
          "output_type": "stream",
          "name": "stdout",
          "text": [
            "accuracy:   0.932\n",
            "Confusion matrix, without normalization\n"
          ]
        },
        {
          "output_type": "display_data",
          "data": {
            "text/plain": [
              "<Figure size 640x480 with 2 Axes>"
            ],
            "image/png": "[encoded data removed]"
          },
          "metadata": {}
        }
      ]
    },
    {
      "cell_type": "markdown",
      "source": [
        "**CLASSIFICATION REPORT:**\n",
        "\n",
        "- A Classification report is used to measure the quality of predictions from a classification algorithm.\n",
        "\n",
        "- It is used to show the precision, recall, F1 Score, and support of your trained classification model.\n",
        "\n"
      ],
      "metadata": {
        "id": "8yDRUY_Ey3VT"
      }
    },
    {
      "cell_type": "code",
      "source": [
        "#Classification report for logistic regression model:\n",
        "from sklearn.metrics import classification_report\n",
        "print(classification_report(Y_test, X_test_prediction))"
      ],
      "metadata": {
        "colab": {
          "base_uri": "https://localhost:8080/"
        },
        "id": "nB7UGd8mx3Cz",
        "outputId": "3bad03c6-35dc-464f-d208-fcb14e01e260"
      },
      "execution_count": null,
      "outputs": [
        {
          "output_type": "stream",
          "name": "stdout",
          "text": [
            "              precision    recall  f1-score   support\n",
            "\n",
            "           0       0.93      0.97      0.95       569\n",
            "           1       0.95      0.90      0.93       431\n",
            "\n",
            "    accuracy                           0.94      1000\n",
            "   macro avg       0.94      0.94      0.94      1000\n",
            "weighted avg       0.94      0.94      0.94      1000\n",
            "\n"
          ]
        }
      ]
    },
    {
      "cell_type": "code",
      "source": [
        "#Classification report for MultinomialNB model:\n",
        "print(classification_report(Y1_test,prediction1))"
      ],
      "metadata": {
        "colab": {
          "base_uri": "https://localhost:8080/"
        },
        "id": "ojArcPphzGFO",
        "outputId": "ef4c20f3-4bef-4bf1-ad14-28ed44a4a81c"
      },
      "execution_count": null,
      "outputs": [
        {
          "output_type": "stream",
          "name": "stdout",
          "text": [
            "              precision    recall  f1-score   support\n",
            "\n",
            "           0       0.57      1.00      0.73       897\n",
            "           1       1.00      0.10      0.19       753\n",
            "\n",
            "    accuracy                           0.59      1650\n",
            "   macro avg       0.79      0.55      0.46      1650\n",
            "weighted avg       0.77      0.59      0.48      1650\n",
            "\n"
          ]
        }
      ]
    },
    {
      "cell_type": "code",
      "source": [
        "#Classification report for PASSIVE AGGRESSIVE CLASSIFIER:\n",
        "print(classification_report(Y2_test,prediction2))"
      ],
      "metadata": {
        "colab": {
          "base_uri": "https://localhost:8080/"
        },
        "id": "x5H0vPmSzpQ0",
        "outputId": "e3801b0e-339a-463a-fd3b-ee6ed75aa1b3"
      },
      "execution_count": null,
      "outputs": [
        {
          "output_type": "stream",
          "name": "stdout",
          "text": [
            "              precision    recall  f1-score   support\n",
            "\n",
            "           0       0.92      0.96      0.94       897\n",
            "           1       0.95      0.90      0.92       753\n",
            "\n",
            "    accuracy                           0.93      1650\n",
            "   macro avg       0.93      0.93      0.93      1650\n",
            "weighted avg       0.93      0.93      0.93      1650\n",
            "\n"
          ]
        }
      ]
    },
    {
      "cell_type": "markdown",
      "source": [
        "MODEL COMPARISON\n",
        "\n",
        "Hence, in this dataset we can observe that\n",
        "\n",
        "Logistic Regression : Accuracy is 0.94\n",
        "\n",
        "Multinomial Naive Bayes : Accuracy is 0.59\n",
        "\n",
        "Passive Aggressive Classifier : Accuracy is 0.93"
      ],
      "metadata": {
        "id": "sh8TXtnoz_Sm"
      }
    },
    {
      "cell_type": "code",
      "source": [],
      "metadata": {
        "id": "xnv_dQCW0PsN"
      },
      "execution_count": null,
      "outputs": []
    }
  ]
}